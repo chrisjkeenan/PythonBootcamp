{
 "cells": [
  {
   "cell_type": "markdown",
   "metadata": {},
   "source": [
    "### Calculate\n",
    "\n",
    "Use the cells below to make the following calculations:\n",
    "\n",
    "1. 20 plus 30 (the code is given, just run the cell)\n",
    "2. 20 minus 30\n",
    "3. 20 times 30\n",
    "4. 20 divided by 30\n",
    "5. 20 to the power 30 (*hint*: use two asterisks: `**`)"
   ]
  },
  {
   "cell_type": "code",
   "execution_count": 1,
   "metadata": {},
   "outputs": [
    {
     "data": {
      "text/plain": [
       "50"
      ]
     },
     "execution_count": 1,
     "metadata": {},
     "output_type": "execute_result"
    }
   ],
   "source": [
    "# Exercise 1\n",
    "20 + 30"
   ]
  },
  {
   "cell_type": "code",
   "execution_count": 2,
   "metadata": {},
   "outputs": [
    {
     "data": {
      "text/plain": [
       "-10"
      ]
     },
     "execution_count": 2,
     "metadata": {},
     "output_type": "execute_result"
    }
   ],
   "source": [
    "# Exercise 2\n",
    "20 - 30"
   ]
  },
  {
   "cell_type": "code",
   "execution_count": 3,
   "metadata": {},
   "outputs": [
    {
     "data": {
      "text/plain": [
       "600"
      ]
     },
     "execution_count": 3,
     "metadata": {},
     "output_type": "execute_result"
    }
   ],
   "source": [
    "# Exercise 3\n",
    "20 * 30"
   ]
  },
  {
   "cell_type": "code",
   "execution_count": 4,
   "metadata": {},
   "outputs": [
    {
     "data": {
      "text/plain": [
       "0.6666666666666666"
      ]
     },
     "execution_count": 4,
     "metadata": {},
     "output_type": "execute_result"
    }
   ],
   "source": [
    "# Exercise 4\n",
    "20 / 30"
   ]
  },
  {
   "cell_type": "code",
   "execution_count": 5,
   "metadata": {},
   "outputs": [
    {
     "data": {
      "text/plain": [
       "1073741824000000000000000000000000000000"
      ]
     },
     "execution_count": 5,
     "metadata": {},
     "output_type": "execute_result"
    }
   ],
   "source": [
    "# Exercise 5\n",
    "20 ** 30"
   ]
  },
  {
   "cell_type": "markdown",
   "metadata": {},
   "source": [
    "### Variables\n",
    "\n",
    "\n",
    "1. Create a variable `a` and assign the value `20`, so `a = 20`\n",
    "2. Create a variable `b` and assign the value `30`\n",
    "3. Add `a` and `b`, the outcome should be 50\n",
    "4. Multiply `a` by `b`, the outcome should be 600\n",
    "\n",
    "*Extra challenge*: can you calculate the value of `c` in $a^{2}$ + $b^{2}$ = $c^{2}$? (Pythagorean Theorem)"
   ]
  },
  {
   "cell_type": "code",
   "execution_count": 6,
   "metadata": {},
   "outputs": [],
   "source": [
    "# Exercise 1\n",
    "a = 20"
   ]
  },
  {
   "cell_type": "code",
   "execution_count": 7,
   "metadata": {},
   "outputs": [],
   "source": [
    "# Exercise 2\n",
    "b = 30"
   ]
  },
  {
   "cell_type": "code",
   "execution_count": 8,
   "metadata": {},
   "outputs": [
    {
     "data": {
      "text/plain": [
       "50"
      ]
     },
     "execution_count": 8,
     "metadata": {},
     "output_type": "execute_result"
    }
   ],
   "source": [
    "# Exercise 3\n",
    "a + b"
   ]
  },
  {
   "cell_type": "code",
   "execution_count": 9,
   "metadata": {},
   "outputs": [
    {
     "data": {
      "text/plain": [
       "600"
      ]
     },
     "execution_count": 9,
     "metadata": {},
     "output_type": "execute_result"
    }
   ],
   "source": [
    "# Exercise 4\n",
    "a * b"
   ]
  },
  {
   "cell_type": "code",
   "execution_count": 10,
   "metadata": {},
   "outputs": [
    {
     "name": "stdout",
     "output_type": "stream",
     "text": [
      "5.0\n"
     ]
    }
   ],
   "source": [
    "# Extra challenge\n",
    "a = 4\n",
    "b = 3\n",
    "c = (a ** 2 + b ** 2) ** 0.5\n",
    "print(c)"
   ]
  },
  {
   "cell_type": "markdown",
   "metadata": {},
   "source": [
    "### Printing\n",
    "\n",
    "```python\n",
    "# Example\n",
    "city = \"Amsterdam\"\n",
    "country = \"The Netherlands\"\n",
    "print(city, country)\n",
    "print(city, country, sep=\",\")\n",
    "```\n",
    "\n",
    "The exercise:\n",
    "\n",
    "1. Assign your first name to a variable called `first_name`\n",
    "2. Assign your last name to a variable called `last_name`\n",
    "3. Print your first and last name to the screen with the `print` function\n",
    "3. Again print your first and last name to the screen, but this time separated by a dot (`.`) instead of a space (` `)"
   ]
  },
  {
   "cell_type": "code",
   "execution_count": 11,
   "metadata": {},
   "outputs": [],
   "source": [
    "# Exercise 1\n",
    "first_name = \"Joris\""
   ]
  },
  {
   "cell_type": "code",
   "execution_count": 12,
   "metadata": {},
   "outputs": [],
   "source": [
    "# Exercise 2\n",
    "last_name = \"Hoendervangers\""
   ]
  },
  {
   "cell_type": "code",
   "execution_count": 13,
   "metadata": {},
   "outputs": [
    {
     "name": "stdout",
     "output_type": "stream",
     "text": [
      "Joris Hoendervangers\n"
     ]
    }
   ],
   "source": [
    "# Exercise 3\n",
    "print(first_name, last_name)"
   ]
  },
  {
   "cell_type": "code",
   "execution_count": 14,
   "metadata": {
    "scrolled": true
   },
   "outputs": [
    {
     "name": "stdout",
     "output_type": "stream",
     "text": [
      "Joris-Hoendervangers\n"
     ]
    }
   ],
   "source": [
    "# Exercise 4\n",
    "print(first_name, last_name, sep='-')"
   ]
  },
  {
   "cell_type": "markdown",
   "metadata": {},
   "source": [
    "### Datatypes\n",
    "\n",
    "1. Without using the computer, write down on a piece of paper what you think the `type` is for every letter (`a` to `i`) \n",
    "2. Assign the values by running the cell below\n",
    "3. Use the `type()` function to check your answers. For example, to check the first one use `type(a)`"
   ]
  },
  {
   "cell_type": "code",
   "execution_count": 15,
   "metadata": {},
   "outputs": [],
   "source": [
    "# Exercise 2 - Run this cell\n",
    "a = 42 \n",
    "b = \"hello world\"\n",
    "c = 3.14\n",
    "d = 100\n",
    "e = \"23\"\n",
    "f = 10 * 10\n",
    "g = 10 / 10\n",
    "h = [1, 2, 3]\n",
    "i = {\"name\": \"John\", \"age\": 42, \"role\": \"developer\"}"
   ]
  },
  {
   "cell_type": "code",
   "execution_count": 16,
   "metadata": {},
   "outputs": [
    {
     "data": {
      "text/plain": [
       "int"
      ]
     },
     "execution_count": 16,
     "metadata": {},
     "output_type": "execute_result"
    }
   ],
   "source": [
    "# a\n",
    "type(a)"
   ]
  },
  {
   "cell_type": "code",
   "execution_count": 17,
   "metadata": {},
   "outputs": [
    {
     "data": {
      "text/plain": [
       "str"
      ]
     },
     "execution_count": 17,
     "metadata": {},
     "output_type": "execute_result"
    }
   ],
   "source": [
    "# b\n",
    "type(b)"
   ]
  },
  {
   "cell_type": "code",
   "execution_count": 18,
   "metadata": {},
   "outputs": [
    {
     "data": {
      "text/plain": [
       "float"
      ]
     },
     "execution_count": 18,
     "metadata": {},
     "output_type": "execute_result"
    }
   ],
   "source": [
    "# c\n",
    "type(c)"
   ]
  },
  {
   "cell_type": "code",
   "execution_count": 19,
   "metadata": {},
   "outputs": [
    {
     "data": {
      "text/plain": [
       "int"
      ]
     },
     "execution_count": 19,
     "metadata": {},
     "output_type": "execute_result"
    }
   ],
   "source": [
    "# d\n",
    "type(d)"
   ]
  },
  {
   "cell_type": "code",
   "execution_count": 20,
   "metadata": {},
   "outputs": [
    {
     "data": {
      "text/plain": [
       "str"
      ]
     },
     "execution_count": 20,
     "metadata": {},
     "output_type": "execute_result"
    }
   ],
   "source": [
    "# e\n",
    "type(e)"
   ]
  },
  {
   "cell_type": "code",
   "execution_count": 21,
   "metadata": {},
   "outputs": [
    {
     "data": {
      "text/plain": [
       "int"
      ]
     },
     "execution_count": 21,
     "metadata": {},
     "output_type": "execute_result"
    }
   ],
   "source": [
    "# f\n",
    "type(f)"
   ]
  },
  {
   "cell_type": "code",
   "execution_count": 22,
   "metadata": {},
   "outputs": [
    {
     "data": {
      "text/plain": [
       "float"
      ]
     },
     "execution_count": 22,
     "metadata": {},
     "output_type": "execute_result"
    }
   ],
   "source": [
    "# g\n",
    "type(g)"
   ]
  },
  {
   "cell_type": "code",
   "execution_count": 23,
   "metadata": {},
   "outputs": [
    {
     "data": {
      "text/plain": [
       "list"
      ]
     },
     "execution_count": 23,
     "metadata": {},
     "output_type": "execute_result"
    }
   ],
   "source": [
    "# h\n",
    "type(h)"
   ]
  },
  {
   "cell_type": "code",
   "execution_count": 24,
   "metadata": {},
   "outputs": [
    {
     "data": {
      "text/plain": [
       "dict"
      ]
     },
     "execution_count": 24,
     "metadata": {},
     "output_type": "execute_result"
    }
   ],
   "source": [
    "# i\n",
    "type(i)"
   ]
  },
  {
   "cell_type": "markdown",
   "metadata": {},
   "source": [
    "### Strings\n",
    "\n",
    "```python\n",
    "# Example\n",
    "pangram = \"The five boxing wizards jump quickly.\"\n",
    "print(pangram[0])\n",
    "print(pangram.title())\n",
    "print(pangram.replace(\"five\", \"ten\"))\n",
    "```\n",
    "\n",
    "Exercise:\n",
    "1. Run the cell below to assign the variable pangram\n",
    "2. Use the `.upper()` method to print the pangram capital letters\n",
    "3. Use the `.replace()` method to replace the word `\"quickly\"` with `\"slowly\"`\n",
    "4. Use the square brackets `[`  `]` to print only letter `\"f\"` (from `\"five\"`)\n",
    "5. Use the square brackets `[`  `]` to print only the word `\"boxing\"`\n",
    "\n",
    "*Extra challenge*: explore other string methods in the [documentation](https://docs.python.org/3/library/stdtypes.html#string-methods)"
   ]
  },
  {
   "cell_type": "code",
   "execution_count": 25,
   "metadata": {},
   "outputs": [],
   "source": [
    "# Exercise 1\n",
    "pangram = \"The five boxing wizards jump quickly.\""
   ]
  },
  {
   "cell_type": "code",
   "execution_count": 26,
   "metadata": {},
   "outputs": [
    {
     "name": "stdout",
     "output_type": "stream",
     "text": [
      "THE FIVE BOXING WIZARDS JUMP QUICKLY.\n"
     ]
    }
   ],
   "source": [
    "# Exercise 2\n",
    "print(pangram.upper())"
   ]
  },
  {
   "cell_type": "code",
   "execution_count": 27,
   "metadata": {},
   "outputs": [
    {
     "name": "stdout",
     "output_type": "stream",
     "text": [
      "The Five Boxing Wizards Jump Quickly.\n"
     ]
    }
   ],
   "source": [
    "# Exercise 3\n",
    "print(pangram.title())"
   ]
  },
  {
   "cell_type": "code",
   "execution_count": 28,
   "metadata": {},
   "outputs": [
    {
     "name": "stdout",
     "output_type": "stream",
     "text": [
      "f\n"
     ]
    }
   ],
   "source": [
    "# Exercise 4\n",
    "print(pangram[4])"
   ]
  },
  {
   "cell_type": "code",
   "execution_count": 29,
   "metadata": {
    "scrolled": true
   },
   "outputs": [
    {
     "name": "stdout",
     "output_type": "stream",
     "text": [
      "boxing\n"
     ]
    }
   ],
   "source": [
    "# Exercise 5\n",
    "print(pangram[9:15])"
   ]
  },
  {
   "cell_type": "code",
   "execution_count": 30,
   "metadata": {},
   "outputs": [],
   "source": [
    "# Extra challenge\n"
   ]
  },
  {
   "cell_type": "markdown",
   "metadata": {},
   "source": [
    "### Getting user input\n",
    "\n",
    "```python\n",
    "# Example\n",
    "day = input(\"Which day is it? \")\n",
    "print(\"Today is\", day)\n",
    "```\n",
    "\n",
    "Exercises: \n",
    "1. Create a variable called `name`. Use the `input()` function to get the user's name\n",
    "2. Use the variable `name` to print a greeting to the screen, like `Hello, nice to meet you John`\n",
    "\n",
    "*Extra challenge*: print the sentence in the following format: `Hello John, how are you?`"
   ]
  },
  {
   "cell_type": "code",
   "execution_count": 31,
   "metadata": {},
   "outputs": [
    {
     "name": "stdout",
     "output_type": "stream",
     "text": [
      "What is your name? Joris\n"
     ]
    }
   ],
   "source": [
    "# Exercise 1\n",
    "name = input(\"What is your name? \")"
   ]
  },
  {
   "cell_type": "code",
   "execution_count": 32,
   "metadata": {},
   "outputs": [
    {
     "name": "stdout",
     "output_type": "stream",
     "text": [
      "Hello, nice to meet you Joris\n"
     ]
    }
   ],
   "source": [
    "# Exercise 2\n",
    "print(\"Hello, nice to meet you\", name)"
   ]
  },
  {
   "cell_type": "code",
   "execution_count": 33,
   "metadata": {
    "scrolled": true
   },
   "outputs": [
    {
     "name": "stdout",
     "output_type": "stream",
     "text": [
      "Hello Joris, how are you?\n"
     ]
    }
   ],
   "source": [
    "# Extra challenge\n",
    "print(\"Hello \", name, \", how are you?\", sep=\"\")"
   ]
  },
  {
   "cell_type": "markdown",
   "metadata": {},
   "source": [
    "### Type casting\n",
    "\n",
    "```python\n",
    "# Examples\n",
    "days_per_week = 7\n",
    "str(days_per_week)\n",
    "\n",
    "score = \"6700\"\n",
    "int(score)\n",
    "```\n",
    "\n",
    "The exercise:\n",
    "1. Use the `str()` function to fix the bug in the code below\n",
    "2. Use the `int()` function to fix the bug in the code below\n",
    "\n",
    "*Extra challenge*: explore other functions like [float()](https://docs.python.org/3/library/functions.html#float) and [bool()](https://docs.python.org/3/library/functions.html?highlight=bool#bool) and how they deal with various inputs. "
   ]
  },
  {
   "cell_type": "code",
   "execution_count": 34,
   "metadata": {},
   "outputs": [
    {
     "name": "stdout",
     "output_type": "stream",
     "text": [
      "The total number of (known) moons for the planet Jupiter is 79\n"
     ]
    }
   ],
   "source": [
    "# Exercise 1\n",
    "number_of_moons = 79\n",
    "sentence = \"The total number of (known) moons for the planet Jupiter is \" + str(number_of_moons)\n",
    "print(sentence)"
   ]
  },
  {
   "cell_type": "code",
   "execution_count": 35,
   "metadata": {
    "scrolled": true
   },
   "outputs": [
    {
     "name": "stdout",
     "output_type": "stream",
     "text": [
      "What is your age? 42\n",
      "Your age in months is: 504\n"
     ]
    }
   ],
   "source": [
    "# Exercise 2\n",
    "age_in_years = int(input(\"What is your age? \"))\n",
    "age_in_months = age_in_years * 12\n",
    "print(\"Your age in months is:\", age_in_months)"
   ]
  },
  {
   "cell_type": "code",
   "execution_count": 36,
   "metadata": {},
   "outputs": [],
   "source": [
    "# Extra challenge\n"
   ]
  }
 ],
 "metadata": {
  "kernelspec": {
   "display_name": "Python 3",
   "language": "python",
   "name": "python3"
  },
  "language_info": {
   "codemirror_mode": {
    "name": "ipython",
    "version": 3
   },
   "file_extension": ".py",
   "mimetype": "text/x-python",
   "name": "python",
   "nbconvert_exporter": "python",
   "pygments_lexer": "ipython3",
   "version": "3.7.8"
  }
 },
 "nbformat": 4,
 "nbformat_minor": 4
}
